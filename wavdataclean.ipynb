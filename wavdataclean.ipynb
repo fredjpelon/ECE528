{
 "cells": [
  {
   "cell_type": "markdown",
   "id": "bb094075-337e-49b7-93e4-78c1faa676ae",
   "metadata": {},
   "source": [
    "# Clean up and chunk up the .wav files to use for training\n",
    "## Pull long samples from source directory and write 3-second chunks into class directories\n",
    "## Also cull low amplitude samples"
   ]
  },
  {
   "cell_type": "code",
   "execution_count": 1,
   "id": "1d2f6c84-91ef-4f3e-93dd-70bf786bebe1",
   "metadata": {},
   "outputs": [],
   "source": [
    "## import numpy as np\n",
    "import matplotlib.pyplot as plt\n",
    "import scipy.io.wavfile\n",
    "import simpleaudio as sa\n",
    "from math import floor\n",
    "import numpy as np\n",
    "import os"
   ]
  },
  {
   "cell_type": "code",
   "execution_count": 2,
   "id": "ed5b6b0b-e163-4cc5-a7be-a84f696fcabf",
   "metadata": {},
   "outputs": [],
   "source": [
    "def playwavnp(data,sample_rate):\n",
    "    bytes_per_channel = 2\n",
    "    channels = 1\n",
    "    play_obj = sa.play_buffer(data, channels, bytes_per_channel, sample_rate)\n",
    "\n",
    "    # wait for playback to finish before exiting\n",
    "    play_obj.wait_done()"
   ]
  },
  {
   "cell_type": "code",
   "execution_count": 3,
   "id": "44055426-06cc-48a7-8a92-162cec5ef4e2",
   "metadata": {},
   "outputs": [],
   "source": [
    "def makeplot(data,time,addtext):\n",
    "    # Plot the audio data as a function of time.\n",
    "    plt.plot(time, data)\n",
    "\n",
    "    plt.xlabel(\"Time (seconds)\")\n",
    "    plt.ylabel(\"Amplitude\")\n",
    "    str = \"Time Domain of Audio File \"+ addtext\n",
    "    plt.title(str)\n",
    "    #plt.xlim([4.675, 4.74])\n",
    "    plt.ylim([-30000, 30000])\n",
    "    plt.show()"
   ]
  },
  {
   "cell_type": "code",
   "execution_count": 5,
   "id": "aef6c7b7-37a0-4c8d-9858-f3f8726d581b",
   "metadata": {},
   "outputs": [
    {
     "name": "stdout",
     "output_type": "stream",
     "text": [
      "alices.wav\n"
     ]
    }
   ],
   "source": [
    "# Read the WAV file into a NumPy array.\n",
    "norm_factor = 30000 # normalize to 30000/32768 amplitude\n",
    "clip_limit = 10000 # need higher than this for noise floor\n",
    "\n",
    "in_dir = \"C:\\\\Users\\\\fredp\\\\pywork\\\\ECE528\\\\Final Project\\\\Black-tailed Prairie Dog All\\\\Black-tailed Prairie Dog\\\\\"\n",
    "out_dir = \"C:\\\\Users\\\\fredp\\\\pywork\\\\ECE528\\\\Final Project\\\\All data\\\\Black-tailed prairie dog\\\\\"\n",
    "out_dir2 = \"C:\\\\Users\\\\fredp\\\\pywork\\\\ECE528\\\\Final Project\\\\All data\\\\Other\\\\\"\n",
    "noise_dir = \"C:\\\\Users\\\\fredp\\\\pywork\\\\ECE528\\\\Final Project\\\\All data\\\\Noise\\\\\"\n",
    "in_dir2 = \"C:\\\\Users\\\\fredp\\\\pywork\\\\ECE528\\\\Final Project\\\\Other Sounds\\\\\"\n",
    "if 0:\n",
    "    dirlist=os.listdir(in_dir)\n",
    "    print(dirlist[0])\n",
    "    for f in dirlist:\n",
    "        base_fname, file_extension = os.path.splitext(f)\n",
    "        \n",
    "        fname = in_dir + base_fname + \".wav\"\n",
    "        sample_rate, data = scipy.io.wavfile.read(fname)\n",
    "        # normalize data\n",
    "        data = data.astype(np.float64)\n",
    "        data *= norm_factor / max(abs(data))\n",
    "        data = data.astype(np.int16)\n",
    "        # playback\n",
    "        #playwavnp(data,sample_rate)\n",
    "    \n",
    "        #scipy.io.wavfile.write('test1.wav', sample_rate, data)\n",
    "    \n",
    "        # Calculate the sample rate of the WAV file.\n",
    "        fs = sample_rate\n",
    "        #print('Sample rate = ',fs/1000, ' kHz')\n",
    "    \n",
    "        # Create a time vector.\n",
    "        samplen = len(data)/fs\n",
    "        time = np.arange(0, samplen, 1 / fs)\n",
    "        #print('Sample length = ', samplen, ' s')\n",
    "        chunks = round(samplen/3)\n",
    "        #chunkval = floor(len(data)/chunks)\n",
    "        # force to exactly 3 s\n",
    "        chunkval = 3*fs\n",
    "        #print('Chunks in sample = ', chunks)\n",
    "        #print('Samples per chunk = ', chunkval)\n",
    "    \n",
    "    \n",
    "        ttime = np.arange(0, chunkval/fs, 1 / fs)\n",
    "        for i in range(chunks):\n",
    "            temp = data[0+i*chunkval:chunkval+i*chunkval]\n",
    "            #print(fname)\n",
    "            #print(abs(temp).max())\n",
    "            if abs(abs(temp).max()) > clip_limit:\n",
    "                fname = out_dir + base_fname + \"_\" + str(i) + \".wav\"\n",
    "                #makeplot(temp,ttime,str(i))\n",
    "                scipy.io.wavfile.write(fname, sample_rate, temp)\n",
    "            else:\n",
    "                fname = noise_dir + base_fname + \"_\" + str(i) + \".wav\"\n",
    "                #makeplot(temp,ttime,str(i))\n",
    "                #scipy.io.wavfile.write(fname, sample_rate, temp)\n",
    "\n",
    "dirlist=os.listdir(in_dir2)\n",
    "print(dirlist[0])\n",
    "for f in dirlist:\n",
    "    base_fname, file_extension = os.path.splitext(f)\n",
    "    if file_extension == '.wav':   \n",
    "        fname = in_dir2 + base_fname + \".wav\"\n",
    "        sample_rate, data = scipy.io.wavfile.read(fname)\n",
    "        # normalize data\n",
    "        data = data.astype(np.float64)\n",
    "        data *= norm_factor / max(abs(data))\n",
    "        data = data.astype(np.int16)\n",
    "        # playback\n",
    "        #playwavnp(data,sample_rate)\n",
    "    \n",
    "        #scipy.io.wavfile.write('test1.wav', sample_rate, data)\n",
    "    \n",
    "        # Calculate the sample rate of the WAV file.\n",
    "        fs = sample_rate\n",
    "        #print('Sample rate = ',fs/1000, ' kHz')\n",
    "    \n",
    "        # Create a time vector.\n",
    "        samplen = len(data)/fs\n",
    "        time = np.arange(0, samplen, 1 / fs)\n",
    "        #print('Sample length = ', samplen, ' s')\n",
    "        chunks = round(samplen/3)\n",
    "        #chunkval = floor(len(data)/chunks)\n",
    "        # force to exactly 3 s\n",
    "        chunkval = 3*fs\n",
    "        #print('Chunks in sample = ', chunks)\n",
    "        #print('Samples per chunk = ', chunkval)\n",
    "    \n",
    "    \n",
    "        ttime = np.arange(0, chunkval/fs, 1 / fs)\n",
    "        for i in range(chunks):\n",
    "            temp = data[0+i*chunkval:chunkval+i*chunkval]\n",
    "            #print(fname)\n",
    "            #print(abs(temp).max())\n",
    "            if abs(abs(temp).max()) > clip_limit:\n",
    "                fname = out_dir2 + base_fname + \"_\" + str(i) + \".wav\"\n",
    "                #makeplot(temp,ttime,str(i))\n",
    "                scipy.io.wavfile.write(fname, sample_rate, temp)"
   ]
  },
  {
   "cell_type": "code",
   "execution_count": null,
   "id": "c1642993-5300-436f-be0d-1795fc8a1623",
   "metadata": {},
   "outputs": [],
   "source": [
    "# Plot the data\n",
    "makeplot(data, time, '1')\n",
    "makeplot(data, time, '2')"
   ]
  }
 ],
 "metadata": {
  "kernelspec": {
   "display_name": "Python 3 (ipykernel)",
   "language": "python",
   "name": "python3"
  },
  "language_info": {
   "codemirror_mode": {
    "name": "ipython",
    "version": 3
   },
   "file_extension": ".py",
   "mimetype": "text/x-python",
   "name": "python",
   "nbconvert_exporter": "python",
   "pygments_lexer": "ipython3",
   "version": "3.11.4"
  }
 },
 "nbformat": 4,
 "nbformat_minor": 5
}
